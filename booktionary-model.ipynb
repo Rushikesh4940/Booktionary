{
 "cells": [
  {
   "cell_type": "code",
   "execution_count": 1,
   "id": "7b0db57d",
   "metadata": {
    "_cell_guid": "b1076dfc-b9ad-4769-8c92-a6c4dae69d19",
    "_uuid": "8f2839f25d086af736a60e9eeb907d3b93b6e0e5",
    "execution": {
     "iopub.execute_input": "2023-07-26T04:00:32.780705Z",
     "iopub.status.busy": "2023-07-26T04:00:32.780156Z",
     "iopub.status.idle": "2023-07-26T04:00:34.775162Z",
     "shell.execute_reply": "2023-07-26T04:00:34.773795Z"
    },
    "papermill": {
     "duration": 2.008355,
     "end_time": "2023-07-26T04:00:34.778112",
     "exception": false,
     "start_time": "2023-07-26T04:00:32.769757",
     "status": "completed"
    },
    "tags": []
   },
   "outputs": [
    {
     "name": "stderr",
     "output_type": "stream",
     "text": [
      "/opt/conda/lib/python3.10/site-packages/scipy/__init__.py:146: UserWarning: A NumPy version >=1.16.5 and <1.23.0 is required for this version of SciPy (detected version 1.23.5\n",
      "  warnings.warn(f\"A NumPy version >={np_minversion} and <{np_maxversion}\"\n"
     ]
    },
    {
     "name": "stdout",
     "output_type": "stream",
     "text": [
      "/kaggle/input/book-recommendation-dataset/Ratings.csv\n",
      "/kaggle/input/book-recommendation-dataset/Users.csv\n",
      "/kaggle/input/book-recommendation-dataset/Books.csv\n",
      "/kaggle/input/book-recommendation-dataset/recsys_taxonomy2.png\n",
      "/kaggle/input/7k-books-with-metadata/books.csv\n"
     ]
    }
   ],
   "source": [
    "import numpy as np # linear algebra\n",
    "import pandas as pd # data processing, CSV file I/O (e.g. pd.read_csv)\n",
    "from sklearn.feature_extraction.text import TfidfVectorizer\n",
    "#it is designed to convert a collection of raw text documents into numerical feature vectors,\n",
    "# representing the relative importance of each word or term in the documents.\n",
    "from sklearn.metrics.pairwise import cosine_similarity\n",
    "#it is commonly used to assess the similarity between two text documents represented as numerical vectors, \n",
    "# such as TF-IDF vectors.\n",
    "import matplotlib.pyplot as plt\n",
    "import seaborn as sns\n",
    "import os\n",
    "for dirname, _, filenames in os.walk('/kaggle/input'):\n",
    "    for filename in filenames:\n",
    "        print(os.path.join(dirname, filename))\n",
    "\n",
    "# You can write up to 20GB to the current directory (/kaggle/working/) that gets preserved as output when you create a version using \"Save & Run All\" \n",
    "# You can also write temporary files to /kaggle/temp/, but they won't be saved outside of the current session"
   ]
  },
  {
   "cell_type": "code",
   "execution_count": 2,
   "id": "6814f6af",
   "metadata": {
    "execution": {
     "iopub.execute_input": "2023-07-26T04:00:34.796098Z",
     "iopub.status.busy": "2023-07-26T04:00:34.795674Z",
     "iopub.status.idle": "2023-07-26T04:00:39.391861Z",
     "shell.execute_reply": "2023-07-26T04:00:39.390527Z"
    },
    "papermill": {
     "duration": 4.60849,
     "end_time": "2023-07-26T04:00:39.394676",
     "exception": false,
     "start_time": "2023-07-26T04:00:34.786186",
     "status": "completed"
    },
    "tags": []
   },
   "outputs": [],
   "source": [
    "books_content= pd.read_csv('/kaggle/input/7k-books-with-metadata/books.csv')\n",
    "book= pd.read_csv('/kaggle/input/book-recommendation-dataset/Books.csv', low_memory=False)\n",
    "users=pd.read_csv('/kaggle/input/book-recommendation-dataset/Users.csv')\n",
    "rating=pd.read_csv('/kaggle/input/book-recommendation-dataset/Ratings.csv')"
   ]
  },
  {
   "cell_type": "code",
   "execution_count": 3,
   "id": "728a2481",
   "metadata": {
    "execution": {
     "iopub.execute_input": "2023-07-26T04:00:39.412998Z",
     "iopub.status.busy": "2023-07-26T04:00:39.412561Z",
     "iopub.status.idle": "2023-07-26T04:00:39.434648Z",
     "shell.execute_reply": "2023-07-26T04:00:39.433656Z"
    },
    "papermill": {
     "duration": 0.034446,
     "end_time": "2023-07-26T04:00:39.437193",
     "exception": false,
     "start_time": "2023-07-26T04:00:39.402747",
     "status": "completed"
    },
    "tags": []
   },
   "outputs": [],
   "source": [
    "books_content[\"description\"].head()\n",
    "books_content[books_content[\"description\"].isnull()].head()\n",
    "books_content['description'] = books_content['description'].fillna('') "
   ]
  },
  {
   "cell_type": "code",
   "execution_count": 4,
   "id": "32036ddf",
   "metadata": {
    "execution": {
     "iopub.execute_input": "2023-07-26T04:00:39.455814Z",
     "iopub.status.busy": "2023-07-26T04:00:39.455368Z",
     "iopub.status.idle": "2023-07-26T04:00:39.476360Z",
     "shell.execute_reply": "2023-07-26T04:00:39.475518Z"
    },
    "papermill": {
     "duration": 0.033841,
     "end_time": "2023-07-26T04:00:39.479429",
     "exception": false,
     "start_time": "2023-07-26T04:00:39.445588",
     "status": "completed"
    },
    "tags": []
   },
   "outputs": [
    {
     "name": "stdout",
     "output_type": "stream",
     "text": [
      "             isbn13      isbn10                      title  \\\n",
      "0     9780002005883  0002005883                     Gilead   \n",
      "1     9780002261982  0002261987               Spider's Web   \n",
      "2     9780006163831  0006163831               The One Tree   \n",
      "3     9780006178736  0006178731             Rage of angels   \n",
      "4     9780006280897  0006280897             The Four Loves   \n",
      "...             ...         ...                        ...   \n",
      "6805  9788185300535  8185300534                  I Am that   \n",
      "6806  9788185944609  8185944601       Secrets Of The Heart   \n",
      "6807  9788445074879  8445074873             Fahrenheit 451   \n",
      "6808  9789027712059  9027712050   The Berlin Phenomenology   \n",
      "6809  9789042003408  9042003405  'I'm Telling You Stories'   \n",
      "\n",
      "                                            subtitle  \\\n",
      "0                                                NaN   \n",
      "1                                            A Novel   \n",
      "2                                                NaN   \n",
      "3                                                NaN   \n",
      "4                                                NaN   \n",
      "...                                              ...   \n",
      "6805             Talks with Sri Nisargadatta Maharaj   \n",
      "6806                                             NaN   \n",
      "6807                                             NaN   \n",
      "6808                                             NaN   \n",
      "6809  Jeanette Winterson and the Politics of Reading   \n",
      "\n",
      "                                           authors  \\\n",
      "0                               Marilynne Robinson   \n",
      "1                  Charles Osborne;Agatha Christie   \n",
      "2                             Stephen R. Donaldson   \n",
      "3                                   Sidney Sheldon   \n",
      "4                              Clive Staples Lewis   \n",
      "...                                            ...   \n",
      "6805  Sri Nisargadatta Maharaj;Sudhakar S. Dikshit   \n",
      "6806                                 Khalil Gibran   \n",
      "6807                                  Ray Bradbury   \n",
      "6808                 Georg Wilhelm Friedrich Hegel   \n",
      "6809                        Helena Grice;Tim Woods   \n",
      "\n",
      "                         categories  \\\n",
      "0                           Fiction   \n",
      "1     Detective and mystery stories   \n",
      "2                  American fiction   \n",
      "3                           Fiction   \n",
      "4                    Christian life   \n",
      "...                             ...   \n",
      "6805                     Philosophy   \n",
      "6806                      Mysticism   \n",
      "6807                   Book burning   \n",
      "6808                        History   \n",
      "6809             Literary Criticism   \n",
      "\n",
      "                                              thumbnail  \\\n",
      "0     http://books.google.com/books/content?id=KQZCP...   \n",
      "1     http://books.google.com/books/content?id=gA5GP...   \n",
      "2     http://books.google.com/books/content?id=OmQaw...   \n",
      "3     http://books.google.com/books/content?id=FKo2T...   \n",
      "4     http://books.google.com/books/content?id=XhQ5X...   \n",
      "...                                                 ...   \n",
      "6805  http://books.google.com/books/content?id=Fv_JP...   \n",
      "6806  http://books.google.com/books/content?id=XcrVp...   \n",
      "6807                                                NaN   \n",
      "6808  http://books.google.com/books/content?id=Vy7Sk...   \n",
      "6809  http://books.google.com/books/content?id=2lVyR...   \n",
      "\n",
      "                                            description  published_year  \\\n",
      "0     A NOVEL THAT READERS and critics have been eag...          2004.0   \n",
      "1     A new 'Christie for Christmas' -- a full-lengt...          2000.0   \n",
      "2     Volume Two of Stephen Donaldson's acclaimed se...          1982.0   \n",
      "3     A memorable, mesmerizing heroine Jennifer -- b...          1993.0   \n",
      "4     Lewis' work on the nature of love divides love...          2002.0   \n",
      "...                                                 ...             ...   \n",
      "6805  This collection of the timeless teachings of o...          1999.0   \n",
      "6806                                                             1993.0   \n",
      "6807                                                             2004.0   \n",
      "6808  Since the three volume edition ofHegel's Philo...          1981.0   \n",
      "6809  This is a jubilant and rewarding collection of...          1998.0   \n",
      "\n",
      "      average_rating  num_pages  ratings_count  \n",
      "0               3.85      247.0          361.0  \n",
      "1               3.83      241.0         5164.0  \n",
      "2               3.97      479.0          172.0  \n",
      "3               3.93      512.0        29532.0  \n",
      "4               4.15      170.0        33684.0  \n",
      "...              ...        ...            ...  \n",
      "6805            4.51      531.0          104.0  \n",
      "6806            4.08       74.0          324.0  \n",
      "6807            3.98      186.0         5733.0  \n",
      "6808            0.00      210.0            0.0  \n",
      "6809            3.70      136.0           10.0  \n",
      "\n",
      "[6810 rows x 12 columns]\n"
     ]
    }
   ],
   "source": [
    "print(books_content)"
   ]
  },
  {
   "cell_type": "code",
   "execution_count": 5,
   "id": "65fc278e",
   "metadata": {
    "execution": {
     "iopub.execute_input": "2023-07-26T04:00:39.498145Z",
     "iopub.status.busy": "2023-07-26T04:00:39.497379Z",
     "iopub.status.idle": "2023-07-26T04:00:41.012354Z",
     "shell.execute_reply": "2023-07-26T04:00:41.011531Z"
    },
    "papermill": {
     "duration": 1.526829,
     "end_time": "2023-07-26T04:00:41.014513",
     "exception": false,
     "start_time": "2023-07-26T04:00:39.487684",
     "status": "completed"
    },
    "tags": []
   },
   "outputs": [
    {
     "data": {
      "text/plain": [
       "array([[0., 0., 0., ..., 0., 0., 0.],\n",
       "       [0., 0., 0., ..., 0., 0., 0.],\n",
       "       [0., 0., 0., ..., 0., 0., 0.],\n",
       "       ...,\n",
       "       [0., 0., 0., ..., 0., 0., 0.],\n",
       "       [0., 0., 0., ..., 0., 0., 0.],\n",
       "       [0., 0., 0., ..., 0., 0., 0.]])"
      ]
     },
     "execution_count": 5,
     "metadata": {},
     "output_type": "execute_result"
    }
   ],
   "source": [
    "tfidf = TfidfVectorizer(stop_words=\"english\")\n",
    "tfidf_matrix = tfidf.fit_transform(books_content['description'])\n",
    "tfidf_matrix.shape\n",
    "tfidf.get_feature_names_out()[0:10]\n",
    "tfidf_matrix.toarray()"
   ]
  },
  {
   "cell_type": "code",
   "execution_count": 6,
   "id": "045ba724",
   "metadata": {
    "execution": {
     "iopub.execute_input": "2023-07-26T04:00:41.034996Z",
     "iopub.status.busy": "2023-07-26T04:00:41.034059Z",
     "iopub.status.idle": "2023-07-26T04:00:42.027397Z",
     "shell.execute_reply": "2023-07-26T04:00:42.026001Z"
    },
    "papermill": {
     "duration": 1.00595,
     "end_time": "2023-07-26T04:00:42.030229",
     "exception": false,
     "start_time": "2023-07-26T04:00:41.024279",
     "status": "completed"
    },
    "tags": []
   },
   "outputs": [],
   "source": [
    "cosine_sim = cosine_similarity(tfidf_matrix,\n",
    "                               tfidf_matrix)\n",
    "indices = pd.Series(books_content.index, index=books_content['title'])\n",
    "indices.index.value_counts()\n",
    "indices = indices[~indices.index.duplicated(keep='last')]\n",
    "book_index = indices[\"Star Wars\"]\n",
    "similarity_scores = pd.DataFrame(cosine_sim[book_index], columns=[\"score\"])"
   ]
  },
  {
   "cell_type": "code",
   "execution_count": 7,
   "id": "cd7e1591",
   "metadata": {
    "execution": {
     "iopub.execute_input": "2023-07-26T04:00:42.049187Z",
     "iopub.status.busy": "2023-07-26T04:00:42.048708Z",
     "iopub.status.idle": "2023-07-26T04:00:42.056520Z",
     "shell.execute_reply": "2023-07-26T04:00:42.055535Z"
    },
    "papermill": {
     "duration": 0.019894,
     "end_time": "2023-07-26T04:00:42.058825",
     "exception": false,
     "start_time": "2023-07-26T04:00:42.038931",
     "status": "completed"
    },
    "tags": []
   },
   "outputs": [],
   "source": [
    "book_indices = similarity_scores.sort_values(\"score\", ascending=False)[1:6].index"
   ]
  },
  {
   "cell_type": "code",
   "execution_count": 8,
   "id": "b1ccee12",
   "metadata": {
    "execution": {
     "iopub.execute_input": "2023-07-26T04:00:42.079298Z",
     "iopub.status.busy": "2023-07-26T04:00:42.078607Z",
     "iopub.status.idle": "2023-07-26T04:00:42.087270Z",
     "shell.execute_reply": "2023-07-26T04:00:42.085944Z"
    },
    "papermill": {
     "duration": 0.0225,
     "end_time": "2023-07-26T04:00:42.089692",
     "exception": false,
     "start_time": "2023-07-26T04:00:42.067192",
     "status": "completed"
    },
    "tags": []
   },
   "outputs": [
    {
     "data": {
      "text/plain": [
       "4623                 You Can Draw Star Wars\n",
       "5151              The Star Wars Poster Book\n",
       "6003    The Sideways Guide to Wine and Life\n",
       "4476                       Grand Theft Auto\n",
       "6146               Star Wars Tales Volume 1\n",
       "Name: title, dtype: object"
      ]
     },
     "execution_count": 8,
     "metadata": {},
     "output_type": "execute_result"
    }
   ],
   "source": [
    "books_content['title'].iloc[book_indices]"
   ]
  },
  {
   "cell_type": "code",
   "execution_count": 9,
   "id": "6d8be66d",
   "metadata": {
    "execution": {
     "iopub.execute_input": "2023-07-26T04:00:42.109501Z",
     "iopub.status.busy": "2023-07-26T04:00:42.108829Z",
     "iopub.status.idle": "2023-07-26T04:00:42.124175Z",
     "shell.execute_reply": "2023-07-26T04:00:42.123022Z"
    },
    "papermill": {
     "duration": 0.028427,
     "end_time": "2023-07-26T04:00:42.126712",
     "exception": false,
     "start_time": "2023-07-26T04:00:42.098285",
     "status": "completed"
    },
    "tags": []
   },
   "outputs": [
    {
     "data": {
      "text/plain": [
       "2656    The Hannibal Lecter Trilogy\n",
       "6499      The Patron Saint of Liars\n",
       "1192           Agricola and Germany\n",
       "11            Assassin's Apprentice\n",
       "3364                         Strata\n",
       "Name: title, dtype: object"
      ]
     },
     "execution_count": 9,
     "metadata": {},
     "output_type": "execute_result"
    }
   ],
   "source": [
    "def content_based_recommender(title, cosine_sim, dataframe):\n",
    "    indices = pd.Series(dataframe.index, index=dataframe['title'])\n",
    "    indices = indices[~indices.index.duplicated(keep='last')]\n",
    "    book_index = indices[title]\n",
    "    similarity_scores = pd.DataFrame(cosine_sim[book_index], columns=[\"score\"])\n",
    "    book_indices = similarity_scores.sort_values(\"score\", ascending=False)[1:6].index\n",
    "    return dataframe['title'].iloc[book_indices]\n",
    "content_based_recommender(\"Hannibal\", cosine_sim, books_content)"
   ]
  },
  {
   "cell_type": "code",
   "execution_count": 10,
   "id": "0c8e96bd",
   "metadata": {
    "execution": {
     "iopub.execute_input": "2023-07-26T04:00:42.146628Z",
     "iopub.status.busy": "2023-07-26T04:00:42.145355Z",
     "iopub.status.idle": "2023-07-26T04:00:42.154877Z",
     "shell.execute_reply": "2023-07-26T04:00:42.153942Z"
    },
    "papermill": {
     "duration": 0.02219,
     "end_time": "2023-07-26T04:00:42.157527",
     "exception": false,
     "start_time": "2023-07-26T04:00:42.135337",
     "status": "completed"
    },
    "tags": []
   },
   "outputs": [],
   "source": [
    "book.rename(columns={\n",
    "    \"ISBN\":\"ID\",\n",
    "    \"Book-Title\":\"Title\",\n",
    "    \"Book-Author\":\"Author\",\n",
    "    \"Year-Of-Publication\":\"Year\",\n",
    "    \"Publisher\":\"Publisher\",\n",
    "    \"Image-URL-S\":\"Image-url\"\n",
    "    },inplace=True)"
   ]
  },
  {
   "cell_type": "code",
   "execution_count": 11,
   "id": "c3e62de1",
   "metadata": {
    "execution": {
     "iopub.execute_input": "2023-07-26T04:00:42.177280Z",
     "iopub.status.busy": "2023-07-26T04:00:42.176122Z",
     "iopub.status.idle": "2023-07-26T04:00:42.183796Z",
     "shell.execute_reply": "2023-07-26T04:00:42.182779Z"
    },
    "papermill": {
     "duration": 0.01997,
     "end_time": "2023-07-26T04:00:42.186097",
     "exception": false,
     "start_time": "2023-07-26T04:00:42.166127",
     "status": "completed"
    },
    "tags": []
   },
   "outputs": [
    {
     "data": {
      "text/plain": [
       "Index(['User-ID', 'ISBN', 'Book-Rating'], dtype='object')"
      ]
     },
     "execution_count": 11,
     "metadata": {},
     "output_type": "execute_result"
    }
   ],
   "source": [
    "rating.columns\n"
   ]
  },
  {
   "cell_type": "code",
   "execution_count": 12,
   "id": "6bcc57d5",
   "metadata": {
    "execution": {
     "iopub.execute_input": "2023-07-26T04:00:42.205441Z",
     "iopub.status.busy": "2023-07-26T04:00:42.205007Z",
     "iopub.status.idle": "2023-07-26T04:00:42.210946Z",
     "shell.execute_reply": "2023-07-26T04:00:42.209794Z"
    },
    "papermill": {
     "duration": 0.018923,
     "end_time": "2023-07-26T04:00:42.213652",
     "exception": false,
     "start_time": "2023-07-26T04:00:42.194729",
     "status": "completed"
    },
    "tags": []
   },
   "outputs": [],
   "source": [
    "rating.rename(columns={\n",
    "    \"User-ID\":\"user_id\",\n",
    "    \"ISBN\":\"ID\",\n",
    "    \"Book-Rating\":\"Rating\"\n",
    "}, inplace=True)"
   ]
  },
  {
   "cell_type": "code",
   "execution_count": 13,
   "id": "c87f8d90",
   "metadata": {
    "execution": {
     "iopub.execute_input": "2023-07-26T04:00:42.232869Z",
     "iopub.status.busy": "2023-07-26T04:00:42.232430Z",
     "iopub.status.idle": "2023-07-26T04:00:42.276533Z",
     "shell.execute_reply": "2023-07-26T04:00:42.275409Z"
    },
    "papermill": {
     "duration": 0.05694,
     "end_time": "2023-07-26T04:00:42.279320",
     "exception": false,
     "start_time": "2023-07-26T04:00:42.222380",
     "status": "completed"
    },
    "tags": []
   },
   "outputs": [],
   "source": [
    "x=rating['user_id'].value_counts()>200"
   ]
  },
  {
   "cell_type": "code",
   "execution_count": 14,
   "id": "026c2230",
   "metadata": {
    "execution": {
     "iopub.execute_input": "2023-07-26T04:00:42.298851Z",
     "iopub.status.busy": "2023-07-26T04:00:42.298410Z",
     "iopub.status.idle": "2023-07-26T04:00:43.660257Z",
     "shell.execute_reply": "2023-07-26T04:00:43.659085Z"
    },
    "papermill": {
     "duration": 1.374926,
     "end_time": "2023-07-26T04:00:43.663148",
     "exception": false,
     "start_time": "2023-07-26T04:00:42.288222",
     "status": "completed"
    },
    "tags": []
   },
   "outputs": [],
   "source": [
    "y=x[x].index\n",
    "ratings=rating[rating['user_id'].isin(y)]\n",
    "rating_with_books=rating.merge(book, on =\"ID\")"
   ]
  },
  {
   "cell_type": "code",
   "execution_count": 15,
   "id": "0c30b08f",
   "metadata": {
    "execution": {
     "iopub.execute_input": "2023-07-26T04:00:43.682984Z",
     "iopub.status.busy": "2023-07-26T04:00:43.682577Z",
     "iopub.status.idle": "2023-07-26T04:00:44.571557Z",
     "shell.execute_reply": "2023-07-26T04:00:44.570629Z"
    },
    "papermill": {
     "duration": 0.902326,
     "end_time": "2023-07-26T04:00:44.574364",
     "exception": false,
     "start_time": "2023-07-26T04:00:43.672038",
     "status": "completed"
    },
    "tags": []
   },
   "outputs": [
    {
     "data": {
      "text/html": [
       "<div>\n",
       "<style scoped>\n",
       "    .dataframe tbody tr th:only-of-type {\n",
       "        vertical-align: middle;\n",
       "    }\n",
       "\n",
       "    .dataframe tbody tr th {\n",
       "        vertical-align: top;\n",
       "    }\n",
       "\n",
       "    .dataframe thead th {\n",
       "        text-align: right;\n",
       "    }\n",
       "</style>\n",
       "<table border=\"1\" class=\"dataframe\">\n",
       "  <thead>\n",
       "    <tr style=\"text-align: right;\">\n",
       "      <th></th>\n",
       "      <th>Title</th>\n",
       "      <th>Number_of_rating</th>\n",
       "    </tr>\n",
       "  </thead>\n",
       "  <tbody>\n",
       "    <tr>\n",
       "      <th>0</th>\n",
       "      <td>A Light in the Storm: The Civil War Diary of ...</td>\n",
       "      <td>4</td>\n",
       "    </tr>\n",
       "    <tr>\n",
       "      <th>1</th>\n",
       "      <td>Always Have Popsicles</td>\n",
       "      <td>1</td>\n",
       "    </tr>\n",
       "    <tr>\n",
       "      <th>2</th>\n",
       "      <td>Apple Magic (The Collector's series)</td>\n",
       "      <td>1</td>\n",
       "    </tr>\n",
       "    <tr>\n",
       "      <th>3</th>\n",
       "      <td>Ask Lily (Young Women of Faith: Lily Series, ...</td>\n",
       "      <td>1</td>\n",
       "    </tr>\n",
       "    <tr>\n",
       "      <th>4</th>\n",
       "      <td>Beyond IBM: Leadership Marketing and Finance ...</td>\n",
       "      <td>1</td>\n",
       "    </tr>\n",
       "    <tr>\n",
       "      <th>...</th>\n",
       "      <td>...</td>\n",
       "      <td>...</td>\n",
       "    </tr>\n",
       "    <tr>\n",
       "      <th>241066</th>\n",
       "      <td>Ã?Â?lpiraten.</td>\n",
       "      <td>2</td>\n",
       "    </tr>\n",
       "    <tr>\n",
       "      <th>241067</th>\n",
       "      <td>Ã?Â?rger mit Produkt X. Roman.</td>\n",
       "      <td>4</td>\n",
       "    </tr>\n",
       "    <tr>\n",
       "      <th>241068</th>\n",
       "      <td>Ã?Â?sterlich leben.</td>\n",
       "      <td>1</td>\n",
       "    </tr>\n",
       "    <tr>\n",
       "      <th>241069</th>\n",
       "      <td>Ã?Â?stlich der Berge.</td>\n",
       "      <td>3</td>\n",
       "    </tr>\n",
       "    <tr>\n",
       "      <th>241070</th>\n",
       "      <td>Ã?Â?thique en toc</td>\n",
       "      <td>2</td>\n",
       "    </tr>\n",
       "  </tbody>\n",
       "</table>\n",
       "<p>241071 rows × 2 columns</p>\n",
       "</div>"
      ],
      "text/plain": [
       "                                                    Title  Number_of_rating\n",
       "0        A Light in the Storm: The Civil War Diary of ...                 4\n",
       "1                                   Always Have Popsicles                 1\n",
       "2                    Apple Magic (The Collector's series)                 1\n",
       "3        Ask Lily (Young Women of Faith: Lily Series, ...                 1\n",
       "4        Beyond IBM: Leadership Marketing and Finance ...                 1\n",
       "...                                                   ...               ...\n",
       "241066                                      Ã?Â?lpiraten.                 2\n",
       "241067                     Ã?Â?rger mit Produkt X. Roman.                 4\n",
       "241068                                Ã?Â?sterlich leben.                 1\n",
       "241069                              Ã?Â?stlich der Berge.                 3\n",
       "241070                                  Ã?Â?thique en toc                 2\n",
       "\n",
       "[241071 rows x 2 columns]"
      ]
     },
     "execution_count": 15,
     "metadata": {},
     "output_type": "execute_result"
    }
   ],
   "source": [
    "num_rating= rating_with_books.groupby('Title')['Rating'].count().reset_index()\n",
    "num_rating.rename(columns={\n",
    "    \"Rating\":\"Number_of_rating\",\n",
    "}, inplace=True)\n",
    "num_rating"
   ]
  },
  {
   "cell_type": "code",
   "execution_count": 16,
   "id": "e6e8d969",
   "metadata": {
    "execution": {
     "iopub.execute_input": "2023-07-26T04:00:44.596720Z",
     "iopub.status.busy": "2023-07-26T04:00:44.596058Z",
     "iopub.status.idle": "2023-07-26T04:00:46.057199Z",
     "shell.execute_reply": "2023-07-26T04:00:46.055943Z"
    },
    "papermill": {
     "duration": 1.475753,
     "end_time": "2023-07-26T04:00:46.059952",
     "exception": false,
     "start_time": "2023-07-26T04:00:44.584199",
     "status": "completed"
    },
    "tags": []
   },
   "outputs": [],
   "source": [
    "final_rating=rating_with_books.merge(num_rating,on ='Title')\n",
    "final_rating=final_rating[final_rating['Number_of_rating']>=50]\n",
    "final_rating=final_rating.drop_duplicates({'user_id','Title'})\n"
   ]
  },
  {
   "cell_type": "code",
   "execution_count": 17,
   "id": "c34eaaaa",
   "metadata": {
    "execution": {
     "iopub.execute_input": "2023-07-26T04:00:46.080773Z",
     "iopub.status.busy": "2023-07-26T04:00:46.080296Z",
     "iopub.status.idle": "2023-07-26T04:00:48.181607Z",
     "shell.execute_reply": "2023-07-26T04:00:48.180393Z"
    },
    "papermill": {
     "duration": 2.114819,
     "end_time": "2023-07-26T04:00:48.184395",
     "exception": false,
     "start_time": "2023-07-26T04:00:46.069576",
     "status": "completed"
    },
    "tags": []
   },
   "outputs": [],
   "source": [
    "book_pivot=final_rating.pivot_table(columns='user_id', index='Title',values='Rating')\n"
   ]
  },
  {
   "cell_type": "code",
   "execution_count": 18,
   "id": "df7e6ccc",
   "metadata": {
    "execution": {
     "iopub.execute_input": "2023-07-26T04:00:48.204673Z",
     "iopub.status.busy": "2023-07-26T04:00:48.204242Z",
     "iopub.status.idle": "2023-07-26T04:00:49.960068Z",
     "shell.execute_reply": "2023-07-26T04:00:49.958742Z"
    },
    "papermill": {
     "duration": 1.769044,
     "end_time": "2023-07-26T04:00:49.962925",
     "exception": false,
     "start_time": "2023-07-26T04:00:48.193881",
     "status": "completed"
    },
    "tags": []
   },
   "outputs": [],
   "source": [
    "book_pivot.fillna(0,inplace=True)\n"
   ]
  },
  {
   "cell_type": "code",
   "execution_count": 19,
   "id": "ce5d6cb0",
   "metadata": {
    "execution": {
     "iopub.execute_input": "2023-07-26T04:00:49.983298Z",
     "iopub.status.busy": "2023-07-26T04:00:49.982872Z",
     "iopub.status.idle": "2023-07-26T04:00:52.245823Z",
     "shell.execute_reply": "2023-07-26T04:00:52.244541Z"
    },
    "papermill": {
     "duration": 2.276264,
     "end_time": "2023-07-26T04:00:52.248755",
     "exception": false,
     "start_time": "2023-07-26T04:00:49.972491",
     "status": "completed"
    },
    "tags": []
   },
   "outputs": [
    {
     "data": {
      "text/html": [
       "<style>#sk-container-id-1 {color: black;background-color: white;}#sk-container-id-1 pre{padding: 0;}#sk-container-id-1 div.sk-toggleable {background-color: white;}#sk-container-id-1 label.sk-toggleable__label {cursor: pointer;display: block;width: 100%;margin-bottom: 0;padding: 0.3em;box-sizing: border-box;text-align: center;}#sk-container-id-1 label.sk-toggleable__label-arrow:before {content: \"▸\";float: left;margin-right: 0.25em;color: #696969;}#sk-container-id-1 label.sk-toggleable__label-arrow:hover:before {color: black;}#sk-container-id-1 div.sk-estimator:hover label.sk-toggleable__label-arrow:before {color: black;}#sk-container-id-1 div.sk-toggleable__content {max-height: 0;max-width: 0;overflow: hidden;text-align: left;background-color: #f0f8ff;}#sk-container-id-1 div.sk-toggleable__content pre {margin: 0.2em;color: black;border-radius: 0.25em;background-color: #f0f8ff;}#sk-container-id-1 input.sk-toggleable__control:checked~div.sk-toggleable__content {max-height: 200px;max-width: 100%;overflow: auto;}#sk-container-id-1 input.sk-toggleable__control:checked~label.sk-toggleable__label-arrow:before {content: \"▾\";}#sk-container-id-1 div.sk-estimator input.sk-toggleable__control:checked~label.sk-toggleable__label {background-color: #d4ebff;}#sk-container-id-1 div.sk-label input.sk-toggleable__control:checked~label.sk-toggleable__label {background-color: #d4ebff;}#sk-container-id-1 input.sk-hidden--visually {border: 0;clip: rect(1px 1px 1px 1px);clip: rect(1px, 1px, 1px, 1px);height: 1px;margin: -1px;overflow: hidden;padding: 0;position: absolute;width: 1px;}#sk-container-id-1 div.sk-estimator {font-family: monospace;background-color: #f0f8ff;border: 1px dotted black;border-radius: 0.25em;box-sizing: border-box;margin-bottom: 0.5em;}#sk-container-id-1 div.sk-estimator:hover {background-color: #d4ebff;}#sk-container-id-1 div.sk-parallel-item::after {content: \"\";width: 100%;border-bottom: 1px solid gray;flex-grow: 1;}#sk-container-id-1 div.sk-label:hover label.sk-toggleable__label {background-color: #d4ebff;}#sk-container-id-1 div.sk-serial::before {content: \"\";position: absolute;border-left: 1px solid gray;box-sizing: border-box;top: 0;bottom: 0;left: 50%;z-index: 0;}#sk-container-id-1 div.sk-serial {display: flex;flex-direction: column;align-items: center;background-color: white;padding-right: 0.2em;padding-left: 0.2em;position: relative;}#sk-container-id-1 div.sk-item {position: relative;z-index: 1;}#sk-container-id-1 div.sk-parallel {display: flex;align-items: stretch;justify-content: center;background-color: white;position: relative;}#sk-container-id-1 div.sk-item::before, #sk-container-id-1 div.sk-parallel-item::before {content: \"\";position: absolute;border-left: 1px solid gray;box-sizing: border-box;top: 0;bottom: 0;left: 50%;z-index: -1;}#sk-container-id-1 div.sk-parallel-item {display: flex;flex-direction: column;z-index: 1;position: relative;background-color: white;}#sk-container-id-1 div.sk-parallel-item:first-child::after {align-self: flex-end;width: 50%;}#sk-container-id-1 div.sk-parallel-item:last-child::after {align-self: flex-start;width: 50%;}#sk-container-id-1 div.sk-parallel-item:only-child::after {width: 0;}#sk-container-id-1 div.sk-dashed-wrapped {border: 1px dashed gray;margin: 0 0.4em 0.5em 0.4em;box-sizing: border-box;padding-bottom: 0.4em;background-color: white;}#sk-container-id-1 div.sk-label label {font-family: monospace;font-weight: bold;display: inline-block;line-height: 1.2em;}#sk-container-id-1 div.sk-label-container {text-align: center;}#sk-container-id-1 div.sk-container {/* jupyter's `normalize.less` sets `[hidden] { display: none; }` but bootstrap.min.css set `[hidden] { display: none !important; }` so we also need the `!important` here to be able to override the default hidden behavior on the sphinx rendered scikit-learn.org. See: https://github.com/scikit-learn/scikit-learn/issues/21755 */display: inline-block !important;position: relative;}#sk-container-id-1 div.sk-text-repr-fallback {display: none;}</style><div id=\"sk-container-id-1\" class=\"sk-top-container\"><div class=\"sk-text-repr-fallback\"><pre>NearestNeighbors(algorithm=&#x27;brute&#x27;)</pre><b>In a Jupyter environment, please rerun this cell to show the HTML representation or trust the notebook. <br />On GitHub, the HTML representation is unable to render, please try loading this page with nbviewer.org.</b></div><div class=\"sk-container\" hidden><div class=\"sk-item\"><div class=\"sk-estimator sk-toggleable\"><input class=\"sk-toggleable__control sk-hidden--visually\" id=\"sk-estimator-id-1\" type=\"checkbox\" checked><label for=\"sk-estimator-id-1\" class=\"sk-toggleable__label sk-toggleable__label-arrow\">NearestNeighbors</label><div class=\"sk-toggleable__content\"><pre>NearestNeighbors(algorithm=&#x27;brute&#x27;)</pre></div></div></div></div></div>"
      ],
      "text/plain": [
       "NearestNeighbors(algorithm='brute')"
      ]
     },
     "execution_count": 19,
     "metadata": {},
     "output_type": "execute_result"
    }
   ],
   "source": [
    "from scipy.sparse import csr_matrix\n",
    "book_sparse=csr_matrix(book_pivot)\n",
    "from sklearn.neighbors import NearestNeighbors\n",
    "model=NearestNeighbors(algorithm='brute')\n",
    "model.fit(book_sparse)"
   ]
  },
  {
   "cell_type": "code",
   "execution_count": 20,
   "id": "c9778fc3",
   "metadata": {
    "execution": {
     "iopub.execute_input": "2023-07-26T04:00:52.270668Z",
     "iopub.status.busy": "2023-07-26T04:00:52.269309Z",
     "iopub.status.idle": "2023-07-26T04:00:52.280637Z",
     "shell.execute_reply": "2023-07-26T04:00:52.279438Z"
    },
    "papermill": {
     "duration": 0.025146,
     "end_time": "2023-07-26T04:00:52.283498",
     "exception": false,
     "start_time": "2023-07-26T04:00:52.258352",
     "status": "completed"
    },
    "tags": []
   },
   "outputs": [],
   "source": [
    "distance,suggestion=model.kneighbors(book_pivot.iloc[237,:].values.reshape(1,-1),n_neighbors=6)"
   ]
  },
  {
   "cell_type": "code",
   "execution_count": 21,
   "id": "916154f9",
   "metadata": {
    "execution": {
     "iopub.execute_input": "2023-07-26T04:00:52.304391Z",
     "iopub.status.busy": "2023-07-26T04:00:52.304006Z",
     "iopub.status.idle": "2023-07-26T04:00:52.325946Z",
     "shell.execute_reply": "2023-07-26T04:00:52.324686Z"
    },
    "papermill": {
     "duration": 0.035551,
     "end_time": "2023-07-26T04:00:52.328566",
     "exception": false,
     "start_time": "2023-07-26T04:00:52.293015",
     "status": "completed"
    },
    "tags": []
   },
   "outputs": [
    {
     "data": {
      "text/plain": [
       "4622                 Star Wars\n",
       "4623    You Can Draw Star Wars\n",
       "4481               Castlevania\n",
       "6783    Basics Illustration 01\n",
       "6274        M is for Mayflower\n",
       "Name: title, dtype: object"
      ]
     },
     "execution_count": 21,
     "metadata": {},
     "output_type": "execute_result"
    }
   ],
   "source": [
    "def recommend_book(book_name):\n",
    "    book_id = np.where(book_pivot.index == book_name)[0][0]\n",
    "    distance, suggestion = model.kneighbors(book_pivot.iloc[book_id, :].values.reshape(1, -1), n_neighbors=6)\n",
    "    for i in range(len(suggestion)):\n",
    "        books_indices = suggestion[i]\n",
    "        for index in books_indices:\n",
    "            book = book_pivot.index[index]\n",
    "            print(book)\n",
    "def content_based_recommender(title, cosine_sim, dataframe):\n",
    "    indices = pd.Series(dataframe.index, index=dataframe['title'])\n",
    "    indices = indices[~indices.index.duplicated(keep='last')]\n",
    "    book_index = indices[title]\n",
    "    similarity_scores = pd.DataFrame(cosine_sim[book_index], columns=[\"score\"])\n",
    "    book_indices = similarity_scores.sort_values(\"score\", ascending=False)[1:6].index\n",
    "    return dataframe['title'].iloc[book_indices]\n",
    "def hybrid_recommendation(book_name, cosine_sim, dataframe):\n",
    "    if book_name in book_pivot.index:\n",
    "        num_ratings = final_rating[final_rating['Title'] == book_name]['Number_of_rating'].values[0]\n",
    "        if num_ratings >= 50:\n",
    "            return recommend_book(book_name)\n",
    "    return content_based_recommender(book_name,cosine_sim,books_content)\n",
    "book_name = 'Grand Theft Auto'\n",
    "hybrid_recommendation(book_name,cosine_sim, books_content)"
   ]
  },
  {
   "cell_type": "code",
   "execution_count": 22,
   "id": "1e8f7ad8",
   "metadata": {
    "execution": {
     "iopub.execute_input": "2023-07-26T04:00:52.349740Z",
     "iopub.status.busy": "2023-07-26T04:00:52.349142Z",
     "iopub.status.idle": "2023-07-26T04:00:55.042368Z",
     "shell.execute_reply": "2023-07-26T04:00:55.041220Z"
    },
    "papermill": {
     "duration": 2.706972,
     "end_time": "2023-07-26T04:00:55.045044",
     "exception": false,
     "start_time": "2023-07-26T04:00:52.338072",
     "status": "completed"
    },
    "tags": []
   },
   "outputs": [],
   "source": [
    "import  pickle\n",
    "pickle.dump(model,open('model.pkl','wb'))\n",
    "pickle.dump(book_name,open('books_content.pkl','wb'))\n",
    "pickle.dump(final_rating,open('final_rating.pkl','wb'))\n",
    "pickle.dump(book_pivot,open('book_pivot.pkl','wb'))\n",
    "pickle.dump(cosine_sim,open('cosine_sim.pkl','wb'))"
   ]
  }
 ],
 "metadata": {
  "kernelspec": {
   "display_name": "Python 3",
   "language": "python",
   "name": "python3"
  },
  "language_info": {
   "codemirror_mode": {
    "name": "ipython",
    "version": 3
   },
   "file_extension": ".py",
   "mimetype": "text/x-python",
   "name": "python",
   "nbconvert_exporter": "python",
   "pygments_lexer": "ipython3",
   "version": "3.10.12"
  },
  "papermill": {
   "default_parameters": {},
   "duration": 37.818773,
   "end_time": "2023-07-26T04:00:56.487839",
   "environment_variables": {},
   "exception": null,
   "input_path": "__notebook__.ipynb",
   "output_path": "__notebook__.ipynb",
   "parameters": {},
   "start_time": "2023-07-26T04:00:18.669066",
   "version": "2.4.0"
  }
 },
 "nbformat": 4,
 "nbformat_minor": 5
}
